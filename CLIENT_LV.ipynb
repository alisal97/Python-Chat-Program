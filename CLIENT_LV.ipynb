{
 "cells": [
  {
   "cell_type": "code",
   "execution_count": 2,
   "id": "3693b643",
   "metadata": {},
   "outputs": [
    {
     "name": "stdout",
     "output_type": "stream",
     "text": [
      "Ali ( 100.74.21.199 ) \n",
      "\n",
      "Enter server address:100.74.21.199\n",
      "Username: a\n"
     ]
    },
    {
     "ename": "OSError",
     "evalue": "[WinError 10013] An attempt was made to access a socket in a way forbidden by its access permissions",
     "output_type": "error",
     "traceback": [
      "\u001b[1;31m---------------------------------------------------------------------------\u001b[0m",
      "\u001b[1;31mOSError\u001b[0m                                   Traceback (most recent call last)",
      "\u001b[1;32m<ipython-input-2-f231976dbeb1>\u001b[0m in \u001b[0;36m<module>\u001b[1;34m\u001b[0m\n\u001b[0;32m     73\u001b[0m \u001b[1;33m\u001b[0m\u001b[0m\n\u001b[0;32m     74\u001b[0m \u001b[1;33m\u001b[0m\u001b[0m\n\u001b[1;32m---> 75\u001b[1;33m \u001b[0mstart\u001b[0m\u001b[1;33m(\u001b[0m\u001b[1;33m)\u001b[0m\u001b[1;33m\u001b[0m\u001b[1;33m\u001b[0m\u001b[0m\n\u001b[0m",
      "\u001b[1;32m<ipython-input-2-f231976dbeb1>\u001b[0m in \u001b[0;36mstart\u001b[1;34m()\u001b[0m\n\u001b[0;32m     59\u001b[0m \u001b[1;32mdef\u001b[0m \u001b[0mstart\u001b[0m\u001b[1;33m(\u001b[0m\u001b[1;33m)\u001b[0m\u001b[1;33m:\u001b[0m\u001b[1;33m\u001b[0m\u001b[1;33m\u001b[0m\u001b[0m\n\u001b[0;32m     60\u001b[0m \u001b[1;33m\u001b[0m\u001b[0m\n\u001b[1;32m---> 61\u001b[1;33m     \u001b[0mclientSocket\u001b[0m \u001b[1;33m=\u001b[0m \u001b[0mconnect\u001b[0m\u001b[1;33m(\u001b[0m\u001b[1;33m)\u001b[0m\u001b[1;33m\u001b[0m\u001b[1;33m\u001b[0m\u001b[0m\n\u001b[0m\u001b[0;32m     62\u001b[0m     \u001b[0mthread_receiver\u001b[0m \u001b[1;33m=\u001b[0m \u001b[0mthreading\u001b[0m\u001b[1;33m.\u001b[0m\u001b[0mThread\u001b[0m\u001b[1;33m(\u001b[0m\u001b[0mtarget\u001b[0m\u001b[1;33m=\u001b[0m\u001b[0mreceiver\u001b[0m\u001b[1;33m,\u001b[0m \u001b[0margs\u001b[0m\u001b[1;33m=\u001b[0m\u001b[1;33m[\u001b[0m\u001b[0mclientSocket\u001b[0m\u001b[1;33m]\u001b[0m\u001b[1;33m)\u001b[0m\u001b[1;33m\u001b[0m\u001b[1;33m\u001b[0m\u001b[0m\n\u001b[0;32m     63\u001b[0m     \u001b[0mthread_receiver\u001b[0m\u001b[1;33m.\u001b[0m\u001b[0mstart\u001b[0m\u001b[1;33m(\u001b[0m\u001b[1;33m)\u001b[0m\u001b[1;33m\u001b[0m\u001b[1;33m\u001b[0m\u001b[0m\n",
      "\u001b[1;32m<ipython-input-2-f231976dbeb1>\u001b[0m in \u001b[0;36mconnect\u001b[1;34m()\u001b[0m\n\u001b[0;32m     24\u001b[0m \u001b[1;32mdef\u001b[0m \u001b[0mconnect\u001b[0m\u001b[1;33m(\u001b[0m\u001b[1;33m)\u001b[0m\u001b[1;33m:\u001b[0m\u001b[1;33m\u001b[0m\u001b[1;33m\u001b[0m\u001b[0m\n\u001b[0;32m     25\u001b[0m     \u001b[0mclientSocket\u001b[0m \u001b[1;33m=\u001b[0m \u001b[0msocket\u001b[0m\u001b[1;33m(\u001b[0m\u001b[0mAF_INET\u001b[0m\u001b[1;33m,\u001b[0m \u001b[0mSOCK_STREAM\u001b[0m\u001b[1;33m)\u001b[0m\u001b[1;33m\u001b[0m\u001b[1;33m\u001b[0m\u001b[0m\n\u001b[1;32m---> 26\u001b[1;33m     \u001b[0mclientSocket\u001b[0m\u001b[1;33m.\u001b[0m\u001b[0mconnect\u001b[0m\u001b[1;33m(\u001b[0m\u001b[0mAddress\u001b[0m\u001b[1;33m)\u001b[0m\u001b[1;33m\u001b[0m\u001b[1;33m\u001b[0m\u001b[0m\n\u001b[0m\u001b[0;32m     27\u001b[0m     \u001b[1;32mreturn\u001b[0m \u001b[0mclientSocket\u001b[0m\u001b[1;33m\u001b[0m\u001b[1;33m\u001b[0m\u001b[0m\n\u001b[0;32m     28\u001b[0m \u001b[1;33m\u001b[0m\u001b[0m\n",
      "\u001b[1;31mOSError\u001b[0m: [WinError 10013] An attempt was made to access a socket in a way forbidden by its access permissions"
     ]
    }
   ],
   "source": [
    "import time\n",
    "import threading\n",
    "from socket import *\n",
    "\n",
    "HEADER_LENGTH = 1000\n",
    "\n",
    "# ---\n",
    "\n",
    "s = socket()\n",
    "shost = gethostname()\n",
    "ip = gethostbyname(shost)\n",
    "print(shost, \"(\", ip, \") \\n\")\n",
    "host = input(str(\"Enter server address:\"))\n",
    "port = 8081\n",
    "time.sleep(1)\n",
    "Address = (host, port)\n",
    "FORMAT = \"ASCII\"\n",
    "my_username = input(\"Username: \")\n",
    "first_message = (\n",
    "    \"POST / HTTP/1.1\\n\" \"myline: connect\\n\" \"\\n\" \"{}\\n\" \"I want to connect\"\n",
    ").format(my_username)\n",
    "\n",
    "\n",
    "def connect():\n",
    "    clientSocket = socket(AF_INET, SOCK_STREAM)\n",
    "    clientSocket.connect(Address)\n",
    "    return clientSocket\n",
    "\n",
    "\n",
    "def send(clientSocket, msg):\n",
    "    \"\"\"This function send message to the server\"\"\"\n",
    "    mex = msg.encode()\n",
    "    clientSocket.send(mex)\n",
    "\n",
    "\n",
    "def parse_resp(lines):\n",
    "    code = lines[0].split(\" \")[1]\n",
    "    if code != \"200\":\n",
    "        raise Exception(lines[0])\n",
    "    i = lines.index(\"\")\n",
    "    headers = lines[:i]\n",
    "    msgType = headers[-1].split(\":\")[1].strip(\" \")\n",
    "    messages = lines[i + 1 :]\n",
    "    return msgType, messages, code, headers\n",
    "\n",
    "\n",
    "def receiver(my_socket):\n",
    "    connect = True\n",
    "    while connect:\n",
    "        msg = my_socket.recv(1024).decode(FORMAT)\n",
    "        if not msg:\n",
    "            continue\n",
    "        typ, message, _, _ = parse_resp(msg.split(\"\\n\"))\n",
    "        if typ == \"message to receive\" or typ == \"connect\":\n",
    "            print('\\n'.join(message))\n",
    "        time.sleep(1)\n",
    "\n",
    "\n",
    "def start():\n",
    "\n",
    "    clientSocket = connect()\n",
    "    thread_receiver = threading.Thread(target=receiver, args=[clientSocket])\n",
    "    thread_receiver.start()\n",
    "    send(clientSocket, first_message)\n",
    "\n",
    "    header = (\"POST / HTTP/1.1\\n\" \"myline: message to send\\n\" \"\\n\" \"{}\\n\").format(\n",
    "        my_username\n",
    "    )\n",
    "    while clientSocket:\n",
    "        text = input()\n",
    "        mex = header + text\n",
    "        send(clientSocket, mex)\n",
    "\n",
    "\n",
    "start()\n"
   ]
  },
  {
   "cell_type": "code",
   "execution_count": null,
   "id": "884fdb2c",
   "metadata": {},
   "outputs": [],
   "source": []
  }
 ],
 "metadata": {
  "kernelspec": {
   "display_name": "Python 3",
   "language": "python",
   "name": "python3"
  },
  "language_info": {
   "codemirror_mode": {
    "name": "ipython",
    "version": 3
   },
   "file_extension": ".py",
   "mimetype": "text/x-python",
   "name": "python",
   "nbconvert_exporter": "python",
   "pygments_lexer": "ipython3",
   "version": "3.8.8"
  }
 },
 "nbformat": 4,
 "nbformat_minor": 5
}
